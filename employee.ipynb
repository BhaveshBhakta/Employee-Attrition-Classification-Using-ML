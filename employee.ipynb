{
 "cells": [
  {
   "cell_type": "markdown",
   "metadata": {},
   "source": [
    "# Employee Attrition Classification"
   ]
  },
  {
   "cell_type": "markdown",
   "metadata": {},
   "source": [
    "## Data Loading"
   ]
  },
  {
   "cell_type": "code",
   "execution_count": 1,
   "metadata": {},
   "outputs": [
    {
     "name": "stdout",
     "output_type": "stream",
     "text": [
      "Dataset URL: https://www.kaggle.com/datasets/stealthtechnologies/employee-attrition-dataset\n",
      "License(s): apache-2.0\n",
      "Downloading employee-attrition-dataset.zip to /home/bhxveshhh/ML/Employee Attrition Classification\n",
      "100%|██████████████████████████████████████| 1.72M/1.72M [00:01<00:00, 1.11MB/s]\n",
      "100%|███████████████████████████████████████| 1.72M/1.72M [00:01<00:00, 984kB/s]\n"
     ]
    }
   ],
   "source": [
    "# Importing dataset via kaggle\n",
    "\n",
    "!kaggle datasets download -d stealthtechnologies/employee-attrition-dataset"
   ]
  },
  {
   "cell_type": "code",
   "execution_count": 2,
   "metadata": {},
   "outputs": [],
   "source": [
    "# Exporting dataset from zipfile\n",
    "\n",
    "import zipfile\n",
    "zip_ref = zipfile.ZipFile('/home/bhxveshhh/ML/Employee Attrition Classification/employee-attrition-dataset.zip', 'r')\n",
    "zip_ref.extractall('/home/bhxveshhh/ML/Employee Attrition Classification')\n",
    "zip_ref.close()"
   ]
  },
  {
   "cell_type": "markdown",
   "metadata": {},
   "source": [
    "## Exploratory Data Analysis"
   ]
  },
  {
   "cell_type": "code",
   "execution_count": 1,
   "metadata": {},
   "outputs": [],
   "source": [
    "import pandas as pd\n",
    "import numpy as np\n",
    "import seaborn as sns\n",
    "import matplotlib.pyplot as plt\n",
    "\n",
    "import warnings\n",
    "warnings.filterwarnings('ignore')"
   ]
  },
  {
   "cell_type": "code",
   "execution_count": 2,
   "metadata": {},
   "outputs": [],
   "source": [
    "train = pd.read_csv(\"train.csv\")\n",
    "test = pd.read_csv(\"test.csv\")\n",
    "\n",
    "df = pd.concat([train, test], ignore_index=True)"
   ]
  },
  {
   "cell_type": "code",
   "execution_count": 3,
   "metadata": {},
   "outputs": [
    {
     "data": {
      "text/html": [
       "<div>\n",
       "<style scoped>\n",
       "    .dataframe tbody tr th:only-of-type {\n",
       "        vertical-align: middle;\n",
       "    }\n",
       "\n",
       "    .dataframe tbody tr th {\n",
       "        vertical-align: top;\n",
       "    }\n",
       "\n",
       "    .dataframe thead th {\n",
       "        text-align: right;\n",
       "    }\n",
       "</style>\n",
       "<table border=\"1\" class=\"dataframe\">\n",
       "  <thead>\n",
       "    <tr style=\"text-align: right;\">\n",
       "      <th></th>\n",
       "      <th>Employee ID</th>\n",
       "      <th>Age</th>\n",
       "      <th>Gender</th>\n",
       "      <th>Years at Company</th>\n",
       "      <th>Job Role</th>\n",
       "      <th>Monthly Income</th>\n",
       "      <th>Work-Life Balance</th>\n",
       "      <th>Job Satisfaction</th>\n",
       "      <th>Performance Rating</th>\n",
       "      <th>Number of Promotions</th>\n",
       "      <th>...</th>\n",
       "      <th>Number of Dependents</th>\n",
       "      <th>Job Level</th>\n",
       "      <th>Company Size</th>\n",
       "      <th>Company Tenure</th>\n",
       "      <th>Remote Work</th>\n",
       "      <th>Leadership Opportunities</th>\n",
       "      <th>Innovation Opportunities</th>\n",
       "      <th>Company Reputation</th>\n",
       "      <th>Employee Recognition</th>\n",
       "      <th>Attrition</th>\n",
       "    </tr>\n",
       "  </thead>\n",
       "  <tbody>\n",
       "    <tr>\n",
       "      <th>0</th>\n",
       "      <td>8410</td>\n",
       "      <td>31</td>\n",
       "      <td>Male</td>\n",
       "      <td>19</td>\n",
       "      <td>Education</td>\n",
       "      <td>5390</td>\n",
       "      <td>Excellent</td>\n",
       "      <td>Medium</td>\n",
       "      <td>Average</td>\n",
       "      <td>2</td>\n",
       "      <td>...</td>\n",
       "      <td>0</td>\n",
       "      <td>Mid</td>\n",
       "      <td>Medium</td>\n",
       "      <td>89</td>\n",
       "      <td>No</td>\n",
       "      <td>No</td>\n",
       "      <td>No</td>\n",
       "      <td>Excellent</td>\n",
       "      <td>Medium</td>\n",
       "      <td>Stayed</td>\n",
       "    </tr>\n",
       "    <tr>\n",
       "      <th>1</th>\n",
       "      <td>64756</td>\n",
       "      <td>59</td>\n",
       "      <td>Female</td>\n",
       "      <td>4</td>\n",
       "      <td>Media</td>\n",
       "      <td>5534</td>\n",
       "      <td>Poor</td>\n",
       "      <td>High</td>\n",
       "      <td>Low</td>\n",
       "      <td>3</td>\n",
       "      <td>...</td>\n",
       "      <td>3</td>\n",
       "      <td>Mid</td>\n",
       "      <td>Medium</td>\n",
       "      <td>21</td>\n",
       "      <td>No</td>\n",
       "      <td>No</td>\n",
       "      <td>No</td>\n",
       "      <td>Fair</td>\n",
       "      <td>Low</td>\n",
       "      <td>Stayed</td>\n",
       "    </tr>\n",
       "    <tr>\n",
       "      <th>2</th>\n",
       "      <td>30257</td>\n",
       "      <td>24</td>\n",
       "      <td>Female</td>\n",
       "      <td>10</td>\n",
       "      <td>Healthcare</td>\n",
       "      <td>8159</td>\n",
       "      <td>Good</td>\n",
       "      <td>High</td>\n",
       "      <td>Low</td>\n",
       "      <td>0</td>\n",
       "      <td>...</td>\n",
       "      <td>3</td>\n",
       "      <td>Mid</td>\n",
       "      <td>Medium</td>\n",
       "      <td>74</td>\n",
       "      <td>No</td>\n",
       "      <td>No</td>\n",
       "      <td>No</td>\n",
       "      <td>Poor</td>\n",
       "      <td>Low</td>\n",
       "      <td>Stayed</td>\n",
       "    </tr>\n",
       "    <tr>\n",
       "      <th>3</th>\n",
       "      <td>65791</td>\n",
       "      <td>36</td>\n",
       "      <td>Female</td>\n",
       "      <td>7</td>\n",
       "      <td>Education</td>\n",
       "      <td>3989</td>\n",
       "      <td>Good</td>\n",
       "      <td>High</td>\n",
       "      <td>High</td>\n",
       "      <td>1</td>\n",
       "      <td>...</td>\n",
       "      <td>2</td>\n",
       "      <td>Mid</td>\n",
       "      <td>Small</td>\n",
       "      <td>50</td>\n",
       "      <td>Yes</td>\n",
       "      <td>No</td>\n",
       "      <td>No</td>\n",
       "      <td>Good</td>\n",
       "      <td>Medium</td>\n",
       "      <td>Stayed</td>\n",
       "    </tr>\n",
       "    <tr>\n",
       "      <th>4</th>\n",
       "      <td>65026</td>\n",
       "      <td>56</td>\n",
       "      <td>Male</td>\n",
       "      <td>41</td>\n",
       "      <td>Education</td>\n",
       "      <td>4821</td>\n",
       "      <td>Fair</td>\n",
       "      <td>Very High</td>\n",
       "      <td>Average</td>\n",
       "      <td>0</td>\n",
       "      <td>...</td>\n",
       "      <td>0</td>\n",
       "      <td>Senior</td>\n",
       "      <td>Medium</td>\n",
       "      <td>68</td>\n",
       "      <td>No</td>\n",
       "      <td>No</td>\n",
       "      <td>No</td>\n",
       "      <td>Fair</td>\n",
       "      <td>Medium</td>\n",
       "      <td>Stayed</td>\n",
       "    </tr>\n",
       "  </tbody>\n",
       "</table>\n",
       "<p>5 rows × 24 columns</p>\n",
       "</div>"
      ],
      "text/plain": [
       "   Employee ID  Age  Gender  Years at Company    Job Role  Monthly Income  \\\n",
       "0         8410   31    Male                19   Education            5390   \n",
       "1        64756   59  Female                 4       Media            5534   \n",
       "2        30257   24  Female                10  Healthcare            8159   \n",
       "3        65791   36  Female                 7   Education            3989   \n",
       "4        65026   56    Male                41   Education            4821   \n",
       "\n",
       "  Work-Life Balance Job Satisfaction Performance Rating  Number of Promotions  \\\n",
       "0         Excellent           Medium            Average                     2   \n",
       "1              Poor             High                Low                     3   \n",
       "2              Good             High                Low                     0   \n",
       "3              Good             High               High                     1   \n",
       "4              Fair        Very High            Average                     0   \n",
       "\n",
       "   ... Number of Dependents  Job Level Company Size Company Tenure  \\\n",
       "0  ...                    0        Mid       Medium             89   \n",
       "1  ...                    3        Mid       Medium             21   \n",
       "2  ...                    3        Mid       Medium             74   \n",
       "3  ...                    2        Mid        Small             50   \n",
       "4  ...                    0     Senior       Medium             68   \n",
       "\n",
       "   Remote Work Leadership Opportunities Innovation Opportunities  \\\n",
       "0           No                       No                       No   \n",
       "1           No                       No                       No   \n",
       "2           No                       No                       No   \n",
       "3          Yes                       No                       No   \n",
       "4           No                       No                       No   \n",
       "\n",
       "   Company Reputation Employee Recognition Attrition  \n",
       "0           Excellent               Medium    Stayed  \n",
       "1                Fair                  Low    Stayed  \n",
       "2                Poor                  Low    Stayed  \n",
       "3                Good               Medium    Stayed  \n",
       "4                Fair               Medium    Stayed  \n",
       "\n",
       "[5 rows x 24 columns]"
      ]
     },
     "execution_count": 3,
     "metadata": {},
     "output_type": "execute_result"
    }
   ],
   "source": [
    "df.head()"
   ]
  },
  {
   "cell_type": "code",
   "execution_count": 4,
   "metadata": {},
   "outputs": [
    {
     "data": {
      "text/plain": [
       "(74498, 24)"
      ]
     },
     "execution_count": 4,
     "metadata": {},
     "output_type": "execute_result"
    }
   ],
   "source": [
    "df.shape"
   ]
  },
  {
   "cell_type": "code",
   "execution_count": 5,
   "metadata": {},
   "outputs": [
    {
     "data": {
      "text/plain": [
       "1787952"
      ]
     },
     "execution_count": 5,
     "metadata": {},
     "output_type": "execute_result"
    }
   ],
   "source": [
    "df.size"
   ]
  },
  {
   "cell_type": "code",
   "execution_count": 6,
   "metadata": {},
   "outputs": [
    {
     "name": "stdout",
     "output_type": "stream",
     "text": [
      "<class 'pandas.core.frame.DataFrame'>\n",
      "RangeIndex: 74498 entries, 0 to 74497\n",
      "Data columns (total 24 columns):\n",
      " #   Column                    Non-Null Count  Dtype \n",
      "---  ------                    --------------  ----- \n",
      " 0   Employee ID               74498 non-null  int64 \n",
      " 1   Age                       74498 non-null  int64 \n",
      " 2   Gender                    74498 non-null  object\n",
      " 3   Years at Company          74498 non-null  int64 \n",
      " 4   Job Role                  74498 non-null  object\n",
      " 5   Monthly Income            74498 non-null  int64 \n",
      " 6   Work-Life Balance         74498 non-null  object\n",
      " 7   Job Satisfaction          74498 non-null  object\n",
      " 8   Performance Rating        74498 non-null  object\n",
      " 9   Number of Promotions      74498 non-null  int64 \n",
      " 10  Overtime                  74498 non-null  object\n",
      " 11  Distance from Home        74498 non-null  int64 \n",
      " 12  Education Level           74498 non-null  object\n",
      " 13  Marital Status            74498 non-null  object\n",
      " 14  Number of Dependents      74498 non-null  int64 \n",
      " 15  Job Level                 74498 non-null  object\n",
      " 16  Company Size              74498 non-null  object\n",
      " 17  Company Tenure            74498 non-null  int64 \n",
      " 18  Remote Work               74498 non-null  object\n",
      " 19  Leadership Opportunities  74498 non-null  object\n",
      " 20  Innovation Opportunities  74498 non-null  object\n",
      " 21  Company Reputation        74498 non-null  object\n",
      " 22  Employee Recognition      74498 non-null  object\n",
      " 23  Attrition                 74498 non-null  object\n",
      "dtypes: int64(8), object(16)\n",
      "memory usage: 13.6+ MB\n"
     ]
    }
   ],
   "source": [
    "df.info()"
   ]
  },
  {
   "cell_type": "code",
   "execution_count": 7,
   "metadata": {},
   "outputs": [
    {
     "data": {
      "text/html": [
       "<div>\n",
       "<style scoped>\n",
       "    .dataframe tbody tr th:only-of-type {\n",
       "        vertical-align: middle;\n",
       "    }\n",
       "\n",
       "    .dataframe tbody tr th {\n",
       "        vertical-align: top;\n",
       "    }\n",
       "\n",
       "    .dataframe thead th {\n",
       "        text-align: right;\n",
       "    }\n",
       "</style>\n",
       "<table border=\"1\" class=\"dataframe\">\n",
       "  <thead>\n",
       "    <tr style=\"text-align: right;\">\n",
       "      <th></th>\n",
       "      <th>count</th>\n",
       "      <th>mean</th>\n",
       "      <th>std</th>\n",
       "      <th>min</th>\n",
       "      <th>25%</th>\n",
       "      <th>50%</th>\n",
       "      <th>75%</th>\n",
       "      <th>max</th>\n",
       "    </tr>\n",
       "  </thead>\n",
       "  <tbody>\n",
       "    <tr>\n",
       "      <th>Employee ID</th>\n",
       "      <td>74498.0</td>\n",
       "      <td>37249.500000</td>\n",
       "      <td>21505.864514</td>\n",
       "      <td>1.0</td>\n",
       "      <td>18625.25</td>\n",
       "      <td>37249.5</td>\n",
       "      <td>55873.75</td>\n",
       "      <td>74498.0</td>\n",
       "    </tr>\n",
       "    <tr>\n",
       "      <th>Age</th>\n",
       "      <td>74498.0</td>\n",
       "      <td>38.529746</td>\n",
       "      <td>12.083456</td>\n",
       "      <td>18.0</td>\n",
       "      <td>28.00</td>\n",
       "      <td>39.0</td>\n",
       "      <td>49.00</td>\n",
       "      <td>59.0</td>\n",
       "    </tr>\n",
       "    <tr>\n",
       "      <th>Years at Company</th>\n",
       "      <td>74498.0</td>\n",
       "      <td>15.721603</td>\n",
       "      <td>11.223744</td>\n",
       "      <td>1.0</td>\n",
       "      <td>7.00</td>\n",
       "      <td>13.0</td>\n",
       "      <td>23.00</td>\n",
       "      <td>51.0</td>\n",
       "    </tr>\n",
       "    <tr>\n",
       "      <th>Monthly Income</th>\n",
       "      <td>74498.0</td>\n",
       "      <td>7299.379514</td>\n",
       "      <td>2152.508566</td>\n",
       "      <td>1226.0</td>\n",
       "      <td>5652.00</td>\n",
       "      <td>7348.0</td>\n",
       "      <td>8876.00</td>\n",
       "      <td>16149.0</td>\n",
       "    </tr>\n",
       "    <tr>\n",
       "      <th>Number of Promotions</th>\n",
       "      <td>74498.0</td>\n",
       "      <td>0.832935</td>\n",
       "      <td>0.995289</td>\n",
       "      <td>0.0</td>\n",
       "      <td>0.00</td>\n",
       "      <td>1.0</td>\n",
       "      <td>2.00</td>\n",
       "      <td>4.0</td>\n",
       "    </tr>\n",
       "    <tr>\n",
       "      <th>Distance from Home</th>\n",
       "      <td>74498.0</td>\n",
       "      <td>49.991584</td>\n",
       "      <td>28.513611</td>\n",
       "      <td>1.0</td>\n",
       "      <td>25.00</td>\n",
       "      <td>50.0</td>\n",
       "      <td>75.00</td>\n",
       "      <td>99.0</td>\n",
       "    </tr>\n",
       "    <tr>\n",
       "      <th>Number of Dependents</th>\n",
       "      <td>74498.0</td>\n",
       "      <td>1.650326</td>\n",
       "      <td>1.553633</td>\n",
       "      <td>0.0</td>\n",
       "      <td>0.00</td>\n",
       "      <td>1.0</td>\n",
       "      <td>3.00</td>\n",
       "      <td>6.0</td>\n",
       "    </tr>\n",
       "    <tr>\n",
       "      <th>Company Tenure</th>\n",
       "      <td>74498.0</td>\n",
       "      <td>55.727456</td>\n",
       "      <td>25.399349</td>\n",
       "      <td>2.0</td>\n",
       "      <td>36.00</td>\n",
       "      <td>56.0</td>\n",
       "      <td>76.00</td>\n",
       "      <td>128.0</td>\n",
       "    </tr>\n",
       "  </tbody>\n",
       "</table>\n",
       "</div>"
      ],
      "text/plain": [
       "                        count          mean           std     min       25%  \\\n",
       "Employee ID           74498.0  37249.500000  21505.864514     1.0  18625.25   \n",
       "Age                   74498.0     38.529746     12.083456    18.0     28.00   \n",
       "Years at Company      74498.0     15.721603     11.223744     1.0      7.00   \n",
       "Monthly Income        74498.0   7299.379514   2152.508566  1226.0   5652.00   \n",
       "Number of Promotions  74498.0      0.832935      0.995289     0.0      0.00   \n",
       "Distance from Home    74498.0     49.991584     28.513611     1.0     25.00   \n",
       "Number of Dependents  74498.0      1.650326      1.553633     0.0      0.00   \n",
       "Company Tenure        74498.0     55.727456     25.399349     2.0     36.00   \n",
       "\n",
       "                          50%       75%      max  \n",
       "Employee ID           37249.5  55873.75  74498.0  \n",
       "Age                      39.0     49.00     59.0  \n",
       "Years at Company         13.0     23.00     51.0  \n",
       "Monthly Income         7348.0   8876.00  16149.0  \n",
       "Number of Promotions      1.0      2.00      4.0  \n",
       "Distance from Home       50.0     75.00     99.0  \n",
       "Number of Dependents      1.0      3.00      6.0  \n",
       "Company Tenure           56.0     76.00    128.0  "
      ]
     },
     "execution_count": 7,
     "metadata": {},
     "output_type": "execute_result"
    }
   ],
   "source": [
    "df.describe().T"
   ]
  },
  {
   "cell_type": "code",
   "execution_count": 8,
   "metadata": {},
   "outputs": [
    {
     "data": {
      "text/plain": [
       "Employee ID                 0\n",
       "Age                         0\n",
       "Gender                      0\n",
       "Years at Company            0\n",
       "Job Role                    0\n",
       "Monthly Income              0\n",
       "Work-Life Balance           0\n",
       "Job Satisfaction            0\n",
       "Performance Rating          0\n",
       "Number of Promotions        0\n",
       "Overtime                    0\n",
       "Distance from Home          0\n",
       "Education Level             0\n",
       "Marital Status              0\n",
       "Number of Dependents        0\n",
       "Job Level                   0\n",
       "Company Size                0\n",
       "Company Tenure              0\n",
       "Remote Work                 0\n",
       "Leadership Opportunities    0\n",
       "Innovation Opportunities    0\n",
       "Company Reputation          0\n",
       "Employee Recognition        0\n",
       "Attrition                   0\n",
       "dtype: int64"
      ]
     },
     "execution_count": 8,
     "metadata": {},
     "output_type": "execute_result"
    }
   ],
   "source": [
    "df.isnull().sum()"
   ]
  },
  {
   "cell_type": "code",
   "execution_count": 9,
   "metadata": {},
   "outputs": [
    {
     "data": {
      "text/plain": [
       "np.int64(0)"
      ]
     },
     "execution_count": 9,
     "metadata": {},
     "output_type": "execute_result"
    }
   ],
   "source": [
    "df.duplicated().sum()"
   ]
  },
  {
   "cell_type": "code",
   "execution_count": 10,
   "metadata": {},
   "outputs": [
    {
     "data": {
      "text/plain": [
       "Employee ID                 74498\n",
       "Age                            42\n",
       "Gender                          2\n",
       "Years at Company               51\n",
       "Job Role                        5\n",
       "Monthly Income               9842\n",
       "Work-Life Balance               4\n",
       "Job Satisfaction                4\n",
       "Performance Rating              4\n",
       "Number of Promotions            5\n",
       "Overtime                        2\n",
       "Distance from Home             99\n",
       "Education Level                 5\n",
       "Marital Status                  3\n",
       "Number of Dependents            7\n",
       "Job Level                       3\n",
       "Company Size                    3\n",
       "Company Tenure                127\n",
       "Remote Work                     2\n",
       "Leadership Opportunities        2\n",
       "Innovation Opportunities        2\n",
       "Company Reputation              4\n",
       "Employee Recognition            4\n",
       "Attrition                       2\n",
       "dtype: int64"
      ]
     },
     "execution_count": 10,
     "metadata": {},
     "output_type": "execute_result"
    }
   ],
   "source": [
    "df.nunique()"
   ]
  },
  {
   "cell_type": "code",
   "execution_count": 11,
   "metadata": {},
   "outputs": [
    {
     "data": {
      "text/plain": [
       "array(['Stayed', 'Left'], dtype=object)"
      ]
     },
     "execution_count": 11,
     "metadata": {},
     "output_type": "execute_result"
    }
   ],
   "source": [
    "df['Attrition'].unique()\n"
   ]
  },
  {
   "cell_type": "code",
   "execution_count": 12,
   "metadata": {},
   "outputs": [
    {
     "data": {
      "text/plain": [
       "Attrition\n",
       "Stayed    39128\n",
       "Left      35370\n",
       "Name: count, dtype: int64"
      ]
     },
     "execution_count": 12,
     "metadata": {},
     "output_type": "execute_result"
    }
   ],
   "source": [
    "df['Attrition'].value_counts()"
   ]
  },
  {
   "cell_type": "markdown",
   "metadata": {},
   "source": [
    "## Data Preprocessing"
   ]
  },
  {
   "cell_type": "code",
   "execution_count": 13,
   "metadata": {},
   "outputs": [],
   "source": [
    "# Label Encoding\n",
    "\n",
    "from sklearn.preprocessing import LabelEncoder\n",
    "\n",
    "le = LabelEncoder()\n",
    "\n",
    "df['Attrition'] = le.fit_transform(df['Attrition'])\n",
    "df['Job Role'] = le.fit_transform(df['Job Role'])\n",
    "df['Marital Status'] = le.fit_transform(df['Marital Status'])\n",
    "df['Gender'] = le.fit_transform(df['Gender'])\n",
    "df['Overtime'] = le.fit_transform(df['Overtime'])\n",
    "df['Employee Recognition'] = le.fit_transform(df['Employee Recognition'])\n",
    "df['Work-Life Balance'] = le.fit_transform(df['Work-Life Balance'])\n",
    "df['Job Satisfaction'] = le.fit_transform(df['Job Satisfaction'])\n",
    "df['Performance Rating'] = le.fit_transform(df['Performance Rating'])\n",
    "df['Education Level']= le.fit_transform(df['Education Level'])\n",
    "df['Job Level']= le.fit_transform(df['Job Level'])\n",
    "df['Company Size']= le.fit_transform(df['Company Size'])\n",
    "df['Remote Work']= le.fit_transform(df['Remote Work'])\n",
    "df['Leadership Opportunities'] = le.fit_transform(df['Leadership Opportunities'])\n",
    "df['Innovation Opportunities'] = le.fit_transform(df['Innovation Opportunities'])\n",
    "df['Company Reputation']=le.fit_transform(df['Company Reputation'])"
   ]
  },
  {
   "cell_type": "code",
   "execution_count": 14,
   "metadata": {},
   "outputs": [],
   "source": [
    "X = df.drop(['Attrition'], axis=1)\n",
    "y = df['Attrition']"
   ]
  },
  {
   "cell_type": "code",
   "execution_count": 15,
   "metadata": {},
   "outputs": [],
   "source": [
    "# Train Test Split\n",
    "\n",
    "from sklearn.model_selection import train_test_split\n",
    "\n",
    "X_train, X_test, y_train, y_test = train_test_split(X, y, test_size=0.2, random_state=42)"
   ]
  },
  {
   "cell_type": "markdown",
   "metadata": {},
   "source": [
    "## Model Building"
   ]
  },
  {
   "cell_type": "code",
   "execution_count": 16,
   "metadata": {},
   "outputs": [],
   "source": [
    "from sklearn.linear_model import LogisticRegression, RidgeClassifier\n",
    "from sklearn.ensemble import RandomForestClassifier, AdaBoostClassifier, GradientBoostingClassifier, BaggingClassifier\n",
    "from sklearn.tree import DecisionTreeClassifier\n",
    "from sklearn.svm import SVC\n",
    "from xgboost import XGBClassifier\n",
    "from sklearn.metrics import accuracy_score\n",
    "from sklearn.metrics import r2_score"
   ]
  },
  {
   "cell_type": "code",
   "execution_count": 17,
   "metadata": {},
   "outputs": [],
   "source": [
    "logistic_clf = LogisticRegression()\n",
    "ridge_clf = RidgeClassifier()\n",
    "xgboost_clf = XGBClassifier()\n",
    "random_forest_clf = RandomForestClassifier()\n",
    "ada_boost_clf = AdaBoostClassifier()\n",
    "grad_boost_clf = GradientBoostingClassifier()\n",
    "bagging_clf = BaggingClassifier()\n",
    "decision_tree_clf = DecisionTreeClassifier()\n",
    "svm_clf = SVC()"
   ]
  },
  {
   "cell_type": "code",
   "execution_count": 19,
   "metadata": {},
   "outputs": [
    {
     "name": "stdout",
     "output_type": "stream",
     "text": [
      "[0.5865100671140939, 0.7229530201342282, 0.7555704697986577, 0.751006711409396, 0.756510067114094, 0.7585234899328859, 0.7195302013422818, 0.6690604026845638, 0.523758389261745]\n"
     ]
    }
   ],
   "source": [
    "model_li = [logistic_clf, ridge_clf, xgboost_clf, random_forest_clf, \n",
    "            ada_boost_clf, grad_boost_clf, bagging_clf, decision_tree_clf, svm_clf]\n",
    "\n",
    "scores = []\n",
    "for model in model_li:\n",
    "    model.fit(X_train, y_train)\n",
    "    scores.append(accuracy_score(y_test, model.predict(X_test)))\n",
    "\n",
    "print(scores)"
   ]
  }
 ],
 "metadata": {
  "kernelspec": {
   "display_name": "testenv",
   "language": "python",
   "name": "python3"
  },
  "language_info": {
   "codemirror_mode": {
    "name": "ipython",
    "version": 3
   },
   "file_extension": ".py",
   "mimetype": "text/x-python",
   "name": "python",
   "nbconvert_exporter": "python",
   "pygments_lexer": "ipython3",
   "version": "3.12.8"
  }
 },
 "nbformat": 4,
 "nbformat_minor": 2
}
